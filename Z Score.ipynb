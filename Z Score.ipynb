{
 "cells": [
  {
   "cell_type": "code",
   "execution_count": 1,
   "id": "1e53fc16",
   "metadata": {},
   "outputs": [
    {
     "name": "stdout",
     "output_type": "stream",
     "text": [
      "Original Data: [10 15 20 25 30]\n",
      "Z-scores: [-1.41421356 -0.70710678  0.          0.70710678  1.41421356]\n"
     ]
    }
   ],
   "source": [
    "import numpy as np\n",
    "\n",
    "# Sample data\n",
    "data = np.array([10, 15, 20, 25, 30])\n",
    "\n",
    "# Calculate mean and standard deviation\n",
    "mean_value = np.mean(data)\n",
    "std_dev = np.std(data)\n",
    "\n",
    "# Z-score normalization\n",
    "z_scores = (data - mean_value) / std_dev\n",
    "\n",
    "# Display original data and normalized data\n",
    "print(\"Original Data:\", data)\n",
    "print(\"Z-scores:\", z_scores)"
   ]
  },
  {
   "cell_type": "code",
   "execution_count": null,
   "id": "9739e8c5",
   "metadata": {},
   "outputs": [],
   "source": []
  }
 ],
 "metadata": {
  "kernelspec": {
   "display_name": "Python 3 (ipykernel)",
   "language": "python",
   "name": "python3"
  },
  "language_info": {
   "codemirror_mode": {
    "name": "ipython",
    "version": 3
   },
   "file_extension": ".py",
   "mimetype": "text/x-python",
   "name": "python",
   "nbconvert_exporter": "python",
   "pygments_lexer": "ipython3",
   "version": "3.9.13"
  }
 },
 "nbformat": 4,
 "nbformat_minor": 5
}
